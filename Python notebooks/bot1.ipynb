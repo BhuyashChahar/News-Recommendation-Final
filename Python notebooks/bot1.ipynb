{
 "cells": [
  {
   "cell_type": "markdown",
   "metadata": {},
   "source": [
    "Bot-1 (New-User Bot)"
   ]
  },
  {
   "cell_type": "code",
   "execution_count": 28,
   "metadata": {},
   "outputs": [],
   "source": [
    "import pandas as pd\n",
    "from sklearn.feature_extraction.text import TfidfVectorizer\n",
    "from sklearn.cluster import KMeans\n",
    "from datetime import datetime\n",
    "import numpy as np"
   ]
  },
  {
   "cell_type": "markdown",
   "metadata": {},
   "source": [
    "Bot-1 Trial Run"
   ]
  },
  {
   "cell_type": "code",
   "execution_count": 35,
   "metadata": {},
   "outputs": [
    {
     "name": "stdout",
     "output_type": "stream",
     "text": [
      "\n",
      "Recommended Article Links:\n",
      "--------------------------------------------------\n",
      "\n",
      "Cluster 1 (business)\n",
      "Headline: The ‘untold’ market story\n",
      "Link: https://www.thehindu.com/business/markets/the-untold-market-story/article65263161.ece\n",
      "\n",
      "Cluster 2 (business)\n",
      "Headline: In Sri Lanka, an economic crisis foretold\n",
      "Link: https://www.thehindu.com/news/international/in-sri-lanka-an-economic-crisis-foretold/article65282210.ece\n",
      "\n",
      "Cluster 3 (sci-tech)\n",
      "Headline: If you want to know what’s true, then math is a pretty good place to start, says Abel Prize winner Dennis P. Sullivan\n",
      "Link: https://www.thehindu.com/sci-tech/science/if-you-want-to-know-whats-true-then-math-is-a-pretty-good-place-to-start-says-abel-prize-winner-dennis-p-sullivan/article65255519.ece\n",
      "\n",
      "Cluster 4 (entertainment)\n",
      "Headline: The indie class of 2022\n",
      "Link: https://www.thehindu.com/entertainment/music/the-indie-class-of-2022/article38416776.ece\n",
      "\n",
      "Cluster 5 (entertainment)\n",
      "Headline: When Is Grammys 2022?: Date, Time, Nominations, Performers, Hosts And Other Details\n",
      "Link: https://www.republicworld.com/entertainment-news/hollywood-news/when-is-grammys-2022-date-time-nominations-performers-hosts-and-other-details-articleshow.html\n",
      "\n",
      "Cluster 6 (sci-tech)\n",
      "Headline: Apple Event 2022 Highlights: Check Everything That Apple Announced During Its March Event\n",
      "Link: https://www.republicworld.com/technology-news/mobile/apple-event-2022-live-updates-new-iphone-se-3-ipad-launched-price-specs-apple-keynote-liveblog.html\n",
      "\n",
      "Cluster 7 (sci-tech)\n",
      "Headline: OnePlus 10 Pro review: A wholesome flagship\n",
      "Link: https://www.ibtimes.co.in/oneplus-10-pro-review-wholesome-flagship-847051\n",
      "\n",
      "Cluster 8 (sports)\n",
      "Headline: SRH Vs LSG, IPL 2022 Highlights: LSG Win By 12 Runs As Avesh Khan Picks Four-wicket Haul\n",
      "Link: https://www.republicworld.com/sports-news/cricket-news/srh-vs-lsg-live-score-ipl-2022-sunrisers-hyderabad-vs-lucknow-super-giants-liveblog.html\n",
      "\n",
      "Cluster 9 (business)\n",
      "Headline: Union Budget 2022 | Industry welcomes provisions\n",
      "Link: https://www.thehindu.com/business/budget/union-budget-2022-industry-welcomes-provisions/article38363227.ece\n",
      "\n",
      "Cluster 10 (general)\n",
      "Headline: Russia-Ukraine crisis live updates | U.N. General Assembly votes to suspend Russia from U.N. Human Rights Council; India abstains\n",
      "Link: https://www.thehindu.com/news/international/ukraine-russia-crisis-live-updates-april-7-2022/article65298499.ece\n"
     ]
    }
   ],
   "source": [
    "def get_article_links(csv_file, num_clusters=10):\n",
    "    \"\"\"\n",
    "    Returns links to top articles from each cluster\n",
    "    \"\"\"\n",
    "    # Read and preprocess data\n",
    "    df = pd.read_csv(csv_file)\n",
    "    df['DateTime'] = pd.to_datetime(df['DateTime'])\n",
    "    \n",
    "    # Create combined text for clustering\n",
    "    df['combined_text'] = (\n",
    "        df['category'] + ' ' + \n",
    "        df['subcategory'] + ' ' + \n",
    "        df['headline'] + ' ' + \n",
    "        df['Entire_News']\n",
    "    )\n",
    "    \n",
    "    # Vectorize text\n",
    "    vectorizer = TfidfVectorizer(max_features=1000, stop_words='english')\n",
    "    vectors = vectorizer.fit_transform(df['combined_text'])\n",
    "    \n",
    "    # Perform clustering\n",
    "    kmeans = KMeans(n_clusters=num_clusters, random_state=42)\n",
    "    df['cluster'] = kmeans.fit_predict(vectors)\n",
    "    \n",
    "    # Calculate scores\n",
    "    current_time = datetime.now()\n",
    "    df['time_diff'] = df['DateTime'].apply(lambda x: (current_time - x).total_seconds() / (24 * 3600))\n",
    "    df['time_score'] = df['time_diff'].apply(lambda x: -np.exp(-0.1 * x))  # Negative weight for time\n",
    "    df['final_score'] = (0.4 * df['time_score']) + (0.6 * df['Mean_Time'])  # Positive weight for ratings\n",
    "    \n",
    "    # Get top article links from each cluster\n",
    "    recommended_links = []\n",
    "    for cluster in range(num_clusters):\n",
    "        cluster_articles = df[df['cluster'] == cluster]\n",
    "        top_article = cluster_articles.loc[cluster_articles['final_score'].idxmax()]\n",
    "        recommended_links.append({\n",
    "            'cluster': cluster + 1,\n",
    "            'category': top_article['category'],\n",
    "            'headline': top_article['headline'],\n",
    "            'link': top_article['News_Link']\n",
    "        })\n",
    "    \n",
    "    return recommended_links\n",
    "\n",
    "# Example usage\n",
    "if __name__ == \"__main__\":\n",
    "    csv_file = \"Processes_data.csv\"\n",
    "    recommended_links = get_article_links(csv_file)\n",
    "    \n",
    "    print(\"\\nRecommended Article Links:\")\n",
    "    print(\"-\" * 50)\n",
    "    for article in recommended_links:\n",
    "        print(f\"\\nCluster {article['cluster']} ({article['category']})\")\n",
    "        print(f\"Headline: {article['headline']}\")\n",
    "        print(f\"Link: {article['link']}\")"
   ]
  }
 ],
 "metadata": {
  "kernelspec": {
   "display_name": "Python 3",
   "language": "python",
   "name": "python3"
  },
  "language_info": {
   "codemirror_mode": {
    "name": "ipython",
    "version": 3
   },
   "file_extension": ".py",
   "mimetype": "text/x-python",
   "name": "python",
   "nbconvert_exporter": "python",
   "pygments_lexer": "ipython3",
   "version": "3.9.6"
  }
 },
 "nbformat": 4,
 "nbformat_minor": 2
}

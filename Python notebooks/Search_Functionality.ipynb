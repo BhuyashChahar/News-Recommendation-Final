{
 "cells": [
  {
   "cell_type": "code",
   "execution_count": 3,
   "metadata": {
    "ExecuteTime": {
     "end_time": "2021-04-05T18:51:10.577238Z",
     "start_time": "2021-04-05T18:51:08.583433Z"
    }
   },
   "outputs": [],
   "source": [
    "import numpy as np\n",
    "import pandas as pd\n",
    "import re\n",
    "#import time\n",
    "from datasketch import MinHash, MinHashLSHForest"
   ]
  },
  {
   "cell_type": "code",
   "execution_count": null,
   "metadata": {},
   "outputs": [],
   "source": []
  },
  {
   "cell_type": "code",
   "execution_count": 4,
   "metadata": {
    "ExecuteTime": {
     "end_time": "2021-04-05T18:51:16.875810Z",
     "start_time": "2021-04-05T18:51:16.873210Z"
    }
   },
   "outputs": [],
   "source": [
    "def preprocess(text):\n",
    "    text = re.sub(r'[^\\w\\s]','',text)\n",
    "    tokens = text.lower()\n",
    "    tokens = tokens.split()\n",
    "    return tokens"
   ]
  },
  {
   "cell_type": "code",
   "execution_count": 5,
   "metadata": {
    "ExecuteTime": {
     "end_time": "2021-04-05T18:51:23.470646Z",
     "start_time": "2021-04-05T18:51:23.467096Z"
    }
   },
   "outputs": [],
   "source": [
    "def get_forest(data, perms):\n",
    "    #start_time = time.time()\n",
    "    \n",
    "    minhash = []\n",
    "    \n",
    "    for text in data['text']:\n",
    "        tokens = preprocess(text)\n",
    "        m = MinHash(num_perm=perms)\n",
    "        for s in tokens:\n",
    "            m.update(s.encode('utf8'))\n",
    "        minhash.append(m)\n",
    "        \n",
    "    forest = MinHashLSHForest(num_perm=perms)\n",
    "    \n",
    "    for i,m in enumerate(minhash):\n",
    "        forest.add(i,m)\n",
    "        \n",
    "    forest.index()\n",
    "    \n",
    "    #print('It took %s seconds to build forest.' %(time.time()-start_time))\n",
    "    \n",
    "    return forest"
   ]
  },
  {
   "cell_type": "code",
   "execution_count": 6,
   "metadata": {
    "ExecuteTime": {
     "end_time": "2021-04-05T18:51:32.624931Z",
     "start_time": "2021-04-05T18:51:32.621765Z"
    }
   },
   "outputs": [],
   "source": [
    "def predict(text, database, perms, num_results, forest):\n",
    "    #start_time = time.time()\n",
    "    \n",
    "    tokens = preprocess(text)\n",
    "    m = MinHash(num_perm=perms)\n",
    "    for s in tokens:\n",
    "        m.update(s.encode('utf8'))\n",
    "        \n",
    "    idx_array = np.array(forest.query(m, num_results))\n",
    "    if len(idx_array) == 0:\n",
    "        return None # if your query is empty, return none\n",
    "    \n",
    "    result = database.iloc[idx_array]\n",
    "    \n",
    "    #print('It took %s seconds to query forest.' %(time.time()-start_time))\n",
    "    \n",
    "    return result"
   ]
  },
  {
   "cell_type": "code",
   "execution_count": 7,
   "metadata": {
    "ExecuteTime": {
     "end_time": "2021-04-05T19:06:25.116562Z",
     "start_time": "2021-04-05T19:04:09.801520Z"
    }
   },
   "outputs": [],
   "source": [
    "db = pd.read_csv('Final_Reformatted_Clean_Corpus.csv')\n",
    "permutations = 128\n",
    "# db=corpus\n",
    "db['text'] = db['Headline'] + ' ' + db['Entire_News']\n",
    "forest = get_forest(db, permutations)"
   ]
  },
  {
   "cell_type": "code",
   "execution_count": 8,
   "metadata": {
    "ExecuteTime": {
     "end_time": "2021-04-05T19:06:25.120941Z",
     "start_time": "2021-04-05T19:06:25.118247Z"
    }
   },
   "outputs": [
    {
     "output_type": "stream",
     "name": "stderr",
     "text": [
      "<ipython-input-8-b7cc634e6674>:1: FutureWarning: Passing a negative integer is deprecated in version 1.0 and will not be supported in future version. Instead, use None to not limit the column width.\n  pd.set_option('display.max_colwidth', -1)\n"
     ]
    }
   ],
   "source": [
    "pd.set_option('display.max_colwidth', -1) "
   ]
  },
  {
   "cell_type": "code",
   "execution_count": 9,
   "metadata": {
    "ExecuteTime": {
     "end_time": "2021-04-05T19:14:07.429195Z",
     "start_time": "2021-04-05T19:14:07.419534Z"
    }
   },
   "outputs": [
    {
     "output_type": "display_data",
     "data": {
      "text/plain": "'Querry Headline'"
     },
     "metadata": {}
    },
    {
     "output_type": "display_data",
     "data": {
      "text/plain": "\"Jio To Launch A Low-Cost Laptop Called The 'JioBook' With 4G LTE Connectivity\""
     },
     "metadata": {}
    },
    {
     "output_type": "display_data",
     "data": {
      "text/plain": "'Top Recommendation(s) is(are)'"
     },
     "metadata": {}
    },
    {
     "output_type": "display_data",
     "data": {
      "text/plain": "                  Datetime    Category             Subcategory  \\\n7201   2017-06-12 21:26:00  Technology  games                    \n7169   2017-07-22 14:30:00  Technology  games                    \n15916  2021-03-09 18:49:00  World       Uk-news                  \n6771   2017-06-09 15:51:00  Technology  internet                 \n13140  2016-08-17 16:30:00  Education   Grammar-and-vocabulary   \n19061  2021-02-28 16:04:00  Sports      Tennis-news              \n14873  2021-03-12 17:59:00  India       Economy                  \n6843   2017-02-22 18:04:00  Technology  internet                 \n6812   2017-04-13 13:12:00  Technology  internet                 \n13150  2016-08-17 15:41:00  Education   Grammar-and-vocabulary   \n\n                                                                                                 Headline  \\\n7201   The Evil Within 2 announcement trailer                                                               \n7169   Video game news round-up: Doomfist release, Telltale Games and a legendary Pokemon Go announcement   \n15916  Karachi Activists Have Mixed Feelings On Meghan Intv                                                 \n6771   Who are the DUP?                                                                                     \n13140  Prefixing with 'very': 20 words to replace 'very'                                                    \n19061  Popyrin Of Australia Wins First ATP Title At Singapore Open                                          \n14873  Industrial Production Contracts 1.6 Pc In January                                                    \n6843   Amazon Go: Tech giant unveils checkout-free stores                                                   \n6812   What is a VPN and how do they work?                                                                  \n13150  9 brand names you are mispronouncing                                                                 \n\n                                                                                                                                                                                                                                                                                                              Summary  \\\n7201   Resident Evil creator Shinji Mikami returns with the follow-up to his latest horror IP The Evil Within, which was revealed by publisher Bethesda during its E3 2017 press conference.                                                                                                                            \n7169   Your pick of the biggest gaming stories from the past seven days, this week including Overwatch, Telltale Games and Pokemon Go.                                                                                                                                                                                  \n15916  There were mixed reactions in Pakistan following a television interview with the UK's Prince Harry and Meghan Markle, in which the couple said they encountered racist attitudes and a lack of support that drove the Duchess to thoughts of suicide.                                                            \n6771   The U.K. election has resulted in a hung parliament, and Conservatives are understood to be in talks with the Democratic Unionist Party. The DUP is the largest unionist political party in Northern Ireland and was founded in 1971, with the main political aim of keeping Northern Ireland part of the U.K.   \n13140  To add very or not to: 20 words that can do without the prefix 'very'                                                                                                                                                                                                                                            \n19061  Alexei Popyrin claimed his first-ever ATP Tour title after come-from-behind win over Alexander Bublik at Singapore Tennis Open.                                                                                                                                                                                  \n14873  India's industrial production contracted by 1.6 per cent in January, official data showed on Friday.                                                                                                                                                                                                             \n6843   How would you like to just walk into a shop, grab what you wanted and go? Well thats just what Amazons new technology lets you do. Amazon Go is a new kind of store featuring the world’s most advanced shopping technology. No lines, no checkout.                                                              \n6812   Tech acronyms abound these days, and they don and #39;t always have a clear definition. Hopefully this will help sort out what a VPN (virtual private network) is and why theyre useful.                                                                                                                         \n13150  Here are some brand names you may have been pronouncing wrong until now. Check them out!                                                                                                                                                                                                                         \n\n                                                                                                                                                                                                                                                                                                                                                                                                                                                                                                                                                                                                                                                                                                                                                            Entire_News  \\\n7201   Resident Evil creator Shinji Mikami returns with the follow-up to his latest horror IP The Evil Within, which was revealed by publisher Bethesda during its E3 2017 press conference.                                                                                                                                                                                                                                                                                                                                                                                                                                                                                                                                                                              \n7169   Your pick of the biggest gaming stories from the past seven days, this week including Overwatch, Telltale Games and Pokemon Go.                                                                                                                                                                                                                                                                                                                                                                                                                                                                                                                                                                                                                                    \n15916  There were mixed reactions in Pakistan following a television interview with the UK's Prince Harry and Meghan Markle, in which the couple said they encountered racist attitudes and a lack of support that drove the Duchess to thoughts of suicide.Some women interviewed in Karachi who had gathered to march on International Women's day said not much would change following the explosive interview, while others said the reputation of Britain's Royal Family could be affected.In the two hour interview aired in the US on Sunday night, the couple painted a deeply unflattering picture of the life inside the royal household. (Disclaimer: This story has not been edited by www.republicworld.com and is auto-generated from a syndicated feed.)   \n6771   The U.K. election has resulted in a hung parliament, and Conservatives are understood to be in talks with the Democratic Unionist Party. The DUP is the largest unionist political party in Northern Ireland and was founded in 1971, with the main political aim of keeping Northern Ireland part of the U.K.                                                                                                                                                                                                                                                                                                                                                                                                                                                     \n13140  We all love to prefix 'very' to emphasise something; for instance, we say 'I am very happy' instead of 'I am jubilant'.Here' s a list of 20 such words where you can use a specific word instead of adding 'very'.1.2.3.4.5.6.7.8.9.10.11.12.13.14.15.16.17.18.19.20.Now, this was a very exhaustive list!Read:10 Basic email etiquettes you should know                                                                                                                                                                                                                                                                                                                                                                                                           \n19061  Alexei Popyrin of Australia claimed his first-ever ATP Tour title after come-from-behind win over Alexander Bublik at Singapore Tennis Open.(Disclaimer: This story has not been edited by www.republicworld.com and is auto-generated from a syndicated feed.)                                                                                                                                                                                                                                                                                                                                                                                                                                                                                                    \n14873  India's industrial production contracted by 1.6 per cent in January, official data showed on Friday.\\n\\nAccording to the Index of Industrial Production (IIP) data, the manufacturing sector output contracted by 2 per cent in January 2021.\\n\\nMining output declined 3.7 per cent, while power generation grew 5.5 per cent in January.\\n\\nThe IIP had grown by 2.2 per cent in January 2020.(Disclaimer: This story has not been edited by www.republicworld.com and is auto-generated from a syndicated feed.)                                                                                                                                                                                                                                                \n6843   How would you like to just walk into a shop, grab what you wanted and go? Well thats just what Amazons new technology lets you do. Amazon Go is a new kind of store featuring the world’s most advanced shopping technology. No lines, no checkout.                                                                                                                                                                                                                                                                                                                                                                                                                                                                                                                \n6812   Tech acronyms abound these days, and they don and #39;t always have a clear definition. Hopefully this will help sort out what a VPN (virtual private network) is and why theyre useful.                                                                                                                                                                                                                                                                                                                                                                                                                                                                                                                                                                           \n13150  Are you brand conscious? Have you ever faced trouble trying to correctly pronounce a brand name? Have you been sniggered at when you failed to do so?Here are some brand names you may have been pronouncing wrong until now. Check them out!So, how many were you pronouncing wrong?Keep checking this space for more such tips.Read:  30 common English mistakes Indians make                                                                                                                                                                                                                                                                                                                                                                                    \n\n                                                 Author  \\\n7201   admin                                              \n7169   admin                                              \n15916  Associated press television news                   \n6771   admin                                              \n13140  India today web desk                               \n19061  Associated press television news                   \n14873  Press trust of india                               \n6843   admin                                              \n6812   admin                                              \n13150  India today web desk                               \n\n                                                                                                                               News_Link  \\\n7201   https://www.ibtimes.co.in/the-evil-within-2-announcement-trailer-730516                                                             \n7169   https://www.ibtimes.co.in/video-game-news-round-up-doomfist-release-telltale-games-and-a-legendary-pokemon-go-announcement-735643   \n15916  https://www.republicworld.com/world-news/uk-news/karachi-activists-have-mixed-feelings-on-meghan-intv.html                          \n6771   https://www.ibtimes.co.in/who-are-the-dup-730164                                                                                    \n13140  https://www.indiatoday.in/education-today/grammar-vocabulary/story/prefixing-very-322498-2016-05-09                                 \n19061  https://www.republicworld.com/sports-news/tennis-news/popyrin-of-australia-wins-first-atp-title-at-singapore-open.html              \n14873  https://www.republicworld.com/india-news/economy/industrial-production-contracts-1-dot-6-pc-in-january.html                         \n6843   https://www.ibtimes.co.in/amazon-go-tech-giant-unveils-checkout-free-stores-717035                                                  \n6812   https://www.ibtimes.co.in/what-is-a-vpn-and-how-do-they-work-723028                                                                 \n13150  https://www.indiatoday.in/education-today/grammar-vocabulary/story/mispronounced-brand-names-318773-2016-04-19                      \n\n                                                                                                                                                                                                                                                                                                                                                                                                                                                                                                                                                                                                                                                                                                                                                                                                                        text  \n7201   The Evil Within 2 announcement trailer Resident Evil creator Shinji Mikami returns with the follow-up to his latest horror IP The Evil Within, which was revealed by publisher Bethesda during its E3 2017 press conference.                                                                                                                                                                                                                                                                                                                                                                                                                                                                                                                                                                                           \n7169   Video game news round-up: Doomfist release, Telltale Games and a legendary Pokemon Go announcement Your pick of the biggest gaming stories from the past seven days, this week including Overwatch, Telltale Games and Pokemon Go.                                                                                                                                                                                                                                                                                                                                                                                                                                                                                                                                                                                     \n15916  Karachi Activists Have Mixed Feelings On Meghan Intv There were mixed reactions in Pakistan following a television interview with the UK's Prince Harry and Meghan Markle, in which the couple said they encountered racist attitudes and a lack of support that drove the Duchess to thoughts of suicide.Some women interviewed in Karachi who had gathered to march on International Women's day said not much would change following the explosive interview, while others said the reputation of Britain's Royal Family could be affected.In the two hour interview aired in the US on Sunday night, the couple painted a deeply unflattering picture of the life inside the royal household. (Disclaimer: This story has not been edited by www.republicworld.com and is auto-generated from a syndicated feed.)  \n6771   Who are the DUP? The U.K. election has resulted in a hung parliament, and Conservatives are understood to be in talks with the Democratic Unionist Party. The DUP is the largest unionist political party in Northern Ireland and was founded in 1971, with the main political aim of keeping Northern Ireland part of the U.K.                                                                                                                                                                                                                                                                                                                                                                                                                                                                                        \n13140  Prefixing with 'very': 20 words to replace 'very' We all love to prefix 'very' to emphasise something; for instance, we say 'I am very happy' instead of 'I am jubilant'.Here' s a list of 20 such words where you can use a specific word instead of adding 'very'.1.2.3.4.5.6.7.8.9.10.11.12.13.14.15.16.17.18.19.20.Now, this was a very exhaustive list!Read:10 Basic email etiquettes you should know                                                                                                                                                                                                                                                                                                                                                                                                             \n19061  Popyrin Of Australia Wins First ATP Title At Singapore Open Alexei Popyrin of Australia claimed his first-ever ATP Tour title after come-from-behind win over Alexander Bublik at Singapore Tennis Open.(Disclaimer: This story has not been edited by www.republicworld.com and is auto-generated from a syndicated feed.)                                                                                                                                                                                                                                                                                                                                                                                                                                                                                            \n14873  Industrial Production Contracts 1.6 Pc In January India's industrial production contracted by 1.6 per cent in January, official data showed on Friday.\\n\\nAccording to the Index of Industrial Production (IIP) data, the manufacturing sector output contracted by 2 per cent in January 2021.\\n\\nMining output declined 3.7 per cent, while power generation grew 5.5 per cent in January.\\n\\nThe IIP had grown by 2.2 per cent in January 2020.(Disclaimer: This story has not been edited by www.republicworld.com and is auto-generated from a syndicated feed.)                                                                                                                                                                                                                                                  \n6843   Amazon Go: Tech giant unveils checkout-free stores How would you like to just walk into a shop, grab what you wanted and go? Well thats just what Amazons new technology lets you do. Amazon Go is a new kind of store featuring the world’s most advanced shopping technology. No lines, no checkout.                                                                                                                                                                                                                                                                                                                                                                                                                                                                                                                 \n6812   What is a VPN and how do they work? Tech acronyms abound these days, and they don and #39;t always have a clear definition. Hopefully this will help sort out what a VPN (virtual private network) is and why theyre useful.                                                                                                                                                                                                                                                                                                                                                                                                                                                                                                                                                                                           \n13150  9 brand names you are mispronouncing Are you brand conscious? Have you ever faced trouble trying to correctly pronounce a brand name? Have you been sniggered at when you failed to do so?Here are some brand names you may have been pronouncing wrong until now. Check them out!So, how many were you pronouncing wrong?Keep checking this space for more such tips.Read:  30 common English mistakes Indians make                                                                                                                                                                                                                                                                                                                                                                                                   ",
      "text/html": "<div>\n<style scoped>\n    .dataframe tbody tr th:only-of-type {\n        vertical-align: middle;\n    }\n\n    .dataframe tbody tr th {\n        vertical-align: top;\n    }\n\n    .dataframe thead th {\n        text-align: right;\n    }\n</style>\n<table border=\"1\" class=\"dataframe\">\n  <thead>\n    <tr style=\"text-align: right;\">\n      <th></th>\n      <th>Datetime</th>\n      <th>Category</th>\n      <th>Subcategory</th>\n      <th>Headline</th>\n      <th>Summary</th>\n      <th>Entire_News</th>\n      <th>Author</th>\n      <th>News_Link</th>\n      <th>text</th>\n    </tr>\n  </thead>\n  <tbody>\n    <tr>\n      <th>7201</th>\n      <td>2017-06-12 21:26:00</td>\n      <td>Technology</td>\n      <td>games</td>\n      <td>The Evil Within 2 announcement trailer</td>\n      <td>Resident Evil creator Shinji Mikami returns with the follow-up to his latest horror IP The Evil Within, which was revealed by publisher Bethesda during its E3 2017 press conference.</td>\n      <td>Resident Evil creator Shinji Mikami returns with the follow-up to his latest horror IP The Evil Within, which was revealed by publisher Bethesda during its E3 2017 press conference.</td>\n      <td>admin</td>\n      <td>https://www.ibtimes.co.in/the-evil-within-2-announcement-trailer-730516</td>\n      <td>The Evil Within 2 announcement trailer Resident Evil creator Shinji Mikami returns with the follow-up to his latest horror IP The Evil Within, which was revealed by publisher Bethesda during its E3 2017 press conference.</td>\n    </tr>\n    <tr>\n      <th>7169</th>\n      <td>2017-07-22 14:30:00</td>\n      <td>Technology</td>\n      <td>games</td>\n      <td>Video game news round-up: Doomfist release, Telltale Games and a legendary Pokemon Go announcement</td>\n      <td>Your pick of the biggest gaming stories from the past seven days, this week including Overwatch, Telltale Games and Pokemon Go.</td>\n      <td>Your pick of the biggest gaming stories from the past seven days, this week including Overwatch, Telltale Games and Pokemon Go.</td>\n      <td>admin</td>\n      <td>https://www.ibtimes.co.in/video-game-news-round-up-doomfist-release-telltale-games-and-a-legendary-pokemon-go-announcement-735643</td>\n      <td>Video game news round-up: Doomfist release, Telltale Games and a legendary Pokemon Go announcement Your pick of the biggest gaming stories from the past seven days, this week including Overwatch, Telltale Games and Pokemon Go.</td>\n    </tr>\n    <tr>\n      <th>15916</th>\n      <td>2021-03-09 18:49:00</td>\n      <td>World</td>\n      <td>Uk-news</td>\n      <td>Karachi Activists Have Mixed Feelings On Meghan Intv</td>\n      <td>There were mixed reactions in Pakistan following a television interview with the UK's Prince Harry and Meghan Markle, in which the couple said they encountered racist attitudes and a lack of support that drove the Duchess to thoughts of suicide.</td>\n      <td>There were mixed reactions in Pakistan following a television interview with the UK's Prince Harry and Meghan Markle, in which the couple said they encountered racist attitudes and a lack of support that drove the Duchess to thoughts of suicide.Some women interviewed in Karachi who had gathered to march on International Women's day said not much would change following the explosive interview, while others said the reputation of Britain's Royal Family could be affected.In the two hour interview aired in the US on Sunday night, the couple painted a deeply unflattering picture of the life inside the royal household. (Disclaimer: This story has not been edited by www.republicworld.com and is auto-generated from a syndicated feed.)</td>\n      <td>Associated press television news</td>\n      <td>https://www.republicworld.com/world-news/uk-news/karachi-activists-have-mixed-feelings-on-meghan-intv.html</td>\n      <td>Karachi Activists Have Mixed Feelings On Meghan Intv There were mixed reactions in Pakistan following a television interview with the UK's Prince Harry and Meghan Markle, in which the couple said they encountered racist attitudes and a lack of support that drove the Duchess to thoughts of suicide.Some women interviewed in Karachi who had gathered to march on International Women's day said not much would change following the explosive interview, while others said the reputation of Britain's Royal Family could be affected.In the two hour interview aired in the US on Sunday night, the couple painted a deeply unflattering picture of the life inside the royal household. (Disclaimer: This story has not been edited by www.republicworld.com and is auto-generated from a syndicated feed.)</td>\n    </tr>\n    <tr>\n      <th>6771</th>\n      <td>2017-06-09 15:51:00</td>\n      <td>Technology</td>\n      <td>internet</td>\n      <td>Who are the DUP?</td>\n      <td>The U.K. election has resulted in a hung parliament, and Conservatives are understood to be in talks with the Democratic Unionist Party. The DUP is the largest unionist political party in Northern Ireland and was founded in 1971, with the main political aim of keeping Northern Ireland part of the U.K.</td>\n      <td>The U.K. election has resulted in a hung parliament, and Conservatives are understood to be in talks with the Democratic Unionist Party. The DUP is the largest unionist political party in Northern Ireland and was founded in 1971, with the main political aim of keeping Northern Ireland part of the U.K.</td>\n      <td>admin</td>\n      <td>https://www.ibtimes.co.in/who-are-the-dup-730164</td>\n      <td>Who are the DUP? The U.K. election has resulted in a hung parliament, and Conservatives are understood to be in talks with the Democratic Unionist Party. The DUP is the largest unionist political party in Northern Ireland and was founded in 1971, with the main political aim of keeping Northern Ireland part of the U.K.</td>\n    </tr>\n    <tr>\n      <th>13140</th>\n      <td>2016-08-17 16:30:00</td>\n      <td>Education</td>\n      <td>Grammar-and-vocabulary</td>\n      <td>Prefixing with 'very': 20 words to replace 'very'</td>\n      <td>To add very or not to: 20 words that can do without the prefix 'very'</td>\n      <td>We all love to prefix 'very' to emphasise something; for instance, we say 'I am very happy' instead of 'I am jubilant'.Here' s a list of 20 such words where you can use a specific word instead of adding 'very'.1.2.3.4.5.6.7.8.9.10.11.12.13.14.15.16.17.18.19.20.Now, this was a very exhaustive list!Read:10 Basic email etiquettes you should know</td>\n      <td>India today web desk</td>\n      <td>https://www.indiatoday.in/education-today/grammar-vocabulary/story/prefixing-very-322498-2016-05-09</td>\n      <td>Prefixing with 'very': 20 words to replace 'very' We all love to prefix 'very' to emphasise something; for instance, we say 'I am very happy' instead of 'I am jubilant'.Here' s a list of 20 such words where you can use a specific word instead of adding 'very'.1.2.3.4.5.6.7.8.9.10.11.12.13.14.15.16.17.18.19.20.Now, this was a very exhaustive list!Read:10 Basic email etiquettes you should know</td>\n    </tr>\n    <tr>\n      <th>19061</th>\n      <td>2021-02-28 16:04:00</td>\n      <td>Sports</td>\n      <td>Tennis-news</td>\n      <td>Popyrin Of Australia Wins First ATP Title At Singapore Open</td>\n      <td>Alexei Popyrin claimed his first-ever ATP Tour title after come-from-behind win over Alexander Bublik at Singapore Tennis Open.</td>\n      <td>Alexei Popyrin of Australia claimed his first-ever ATP Tour title after come-from-behind win over Alexander Bublik at Singapore Tennis Open.(Disclaimer: This story has not been edited by www.republicworld.com and is auto-generated from a syndicated feed.)</td>\n      <td>Associated press television news</td>\n      <td>https://www.republicworld.com/sports-news/tennis-news/popyrin-of-australia-wins-first-atp-title-at-singapore-open.html</td>\n      <td>Popyrin Of Australia Wins First ATP Title At Singapore Open Alexei Popyrin of Australia claimed his first-ever ATP Tour title after come-from-behind win over Alexander Bublik at Singapore Tennis Open.(Disclaimer: This story has not been edited by www.republicworld.com and is auto-generated from a syndicated feed.)</td>\n    </tr>\n    <tr>\n      <th>14873</th>\n      <td>2021-03-12 17:59:00</td>\n      <td>India</td>\n      <td>Economy</td>\n      <td>Industrial Production Contracts 1.6 Pc In January</td>\n      <td>India's industrial production contracted by 1.6 per cent in January, official data showed on Friday.</td>\n      <td>India's industrial production contracted by 1.6 per cent in January, official data showed on Friday.\\n\\nAccording to the Index of Industrial Production (IIP) data, the manufacturing sector output contracted by 2 per cent in January 2021.\\n\\nMining output declined 3.7 per cent, while power generation grew 5.5 per cent in January.\\n\\nThe IIP had grown by 2.2 per cent in January 2020.(Disclaimer: This story has not been edited by www.republicworld.com and is auto-generated from a syndicated feed.)</td>\n      <td>Press trust of india</td>\n      <td>https://www.republicworld.com/india-news/economy/industrial-production-contracts-1-dot-6-pc-in-january.html</td>\n      <td>Industrial Production Contracts 1.6 Pc In January India's industrial production contracted by 1.6 per cent in January, official data showed on Friday.\\n\\nAccording to the Index of Industrial Production (IIP) data, the manufacturing sector output contracted by 2 per cent in January 2021.\\n\\nMining output declined 3.7 per cent, while power generation grew 5.5 per cent in January.\\n\\nThe IIP had grown by 2.2 per cent in January 2020.(Disclaimer: This story has not been edited by www.republicworld.com and is auto-generated from a syndicated feed.)</td>\n    </tr>\n    <tr>\n      <th>6843</th>\n      <td>2017-02-22 18:04:00</td>\n      <td>Technology</td>\n      <td>internet</td>\n      <td>Amazon Go: Tech giant unveils checkout-free stores</td>\n      <td>How would you like to just walk into a shop, grab what you wanted and go? Well thats just what Amazons new technology lets you do. Amazon Go is a new kind of store featuring the world’s most advanced shopping technology. No lines, no checkout.</td>\n      <td>How would you like to just walk into a shop, grab what you wanted and go? Well thats just what Amazons new technology lets you do. Amazon Go is a new kind of store featuring the world’s most advanced shopping technology. No lines, no checkout.</td>\n      <td>admin</td>\n      <td>https://www.ibtimes.co.in/amazon-go-tech-giant-unveils-checkout-free-stores-717035</td>\n      <td>Amazon Go: Tech giant unveils checkout-free stores How would you like to just walk into a shop, grab what you wanted and go? Well thats just what Amazons new technology lets you do. Amazon Go is a new kind of store featuring the world’s most advanced shopping technology. No lines, no checkout.</td>\n    </tr>\n    <tr>\n      <th>6812</th>\n      <td>2017-04-13 13:12:00</td>\n      <td>Technology</td>\n      <td>internet</td>\n      <td>What is a VPN and how do they work?</td>\n      <td>Tech acronyms abound these days, and they don and #39;t always have a clear definition. Hopefully this will help sort out what a VPN (virtual private network) is and why theyre useful.</td>\n      <td>Tech acronyms abound these days, and they don and #39;t always have a clear definition. Hopefully this will help sort out what a VPN (virtual private network) is and why theyre useful.</td>\n      <td>admin</td>\n      <td>https://www.ibtimes.co.in/what-is-a-vpn-and-how-do-they-work-723028</td>\n      <td>What is a VPN and how do they work? Tech acronyms abound these days, and they don and #39;t always have a clear definition. Hopefully this will help sort out what a VPN (virtual private network) is and why theyre useful.</td>\n    </tr>\n    <tr>\n      <th>13150</th>\n      <td>2016-08-17 15:41:00</td>\n      <td>Education</td>\n      <td>Grammar-and-vocabulary</td>\n      <td>9 brand names you are mispronouncing</td>\n      <td>Here are some brand names you may have been pronouncing wrong until now. Check them out!</td>\n      <td>Are you brand conscious? Have you ever faced trouble trying to correctly pronounce a brand name? Have you been sniggered at when you failed to do so?Here are some brand names you may have been pronouncing wrong until now. Check them out!So, how many were you pronouncing wrong?Keep checking this space for more such tips.Read:  30 common English mistakes Indians make</td>\n      <td>India today web desk</td>\n      <td>https://www.indiatoday.in/education-today/grammar-vocabulary/story/mispronounced-brand-names-318773-2016-04-19</td>\n      <td>9 brand names you are mispronouncing Are you brand conscious? Have you ever faced trouble trying to correctly pronounce a brand name? Have you been sniggered at when you failed to do so?Here are some brand names you may have been pronouncing wrong until now. Check them out!So, how many were you pronouncing wrong?Keep checking this space for more such tips.Read:  30 common English mistakes Indians make</td>\n    </tr>\n  </tbody>\n</table>\n</div>"
     },
     "metadata": {}
    }
   ],
   "source": [
    "num_recommendations = 10\n",
    "title = db['Headline'][20225]\n",
    "result = predict(title, db, permutations, num_recommendations, forest)\n",
    "display('Querry Headline', db['Headline'][20225])\n",
    "display('Top Recommendation(s) is(are)', result)"
   ]
  },
  {
   "cell_type": "code",
   "execution_count": 8,
   "metadata": {
    "ExecuteTime": {
     "end_time": "2021-04-05T19:13:51.185350Z",
     "start_time": "2021-04-05T19:13:51.172264Z"
    }
   },
   "outputs": [
    {
     "output_type": "display_data",
     "data": {
      "text/plain": "'Querry Headline'"
     },
     "metadata": {}
    },
    {
     "output_type": "display_data",
     "data": {
      "text/plain": "\"Jio To Launch A Low-Cost Laptop Called The 'JioBook' With 4G LTE Connectivity\""
     },
     "metadata": {}
    },
    {
     "output_type": "display_data",
     "data": {
      "text/plain": "'Top Recommendation(s) is(are)'"
     },
     "metadata": {}
    },
    {
     "output_type": "display_data",
     "data": {
      "text/plain": "20225    Jio To Launch A Low-Cost Laptop Called The 'JioBook' With 4G LTE Connectivity                            \n11334    25 years after Amul topical on Urmila Matondkar in Rangeela, divided India is outraged                   \n10798    Haters, stop all your hate, the prices of Redmi K20 and Redmi K20 Pro are fine                           \n527      A loss that keeps feet on ground                                                                         \n10865    Best smartphones with 6000mAh battery to buy this February: Poco M3 joins Asus ROG Phone 3, Redmi 9 Power\n2067     Apple iPhone 12 Pro Max review: The real Pro phone                                                       \n10517    Poco M3 review: The smartphone to beat this year under Rs 12,000                                         \n2134     MacBook Air (2020) review: Nobody does it better                                                         \n2427     Redmi Note 9 Pro 5G vs Redmi Note 9 Pro: What has changed with the 5G version?                           \n10941    Xiaomi Redmi 6, Realme C1, Honor 7C among best phones to buy under Rs 10,000                             \nName: Headline, dtype: object"
     },
     "metadata": {}
    }
   ],
   "source": [
    "num_recommendations = 10\n",
    "title = db['Entire_News'][20225]\n",
    "result = predict(title, db, permutations, num_recommendations, forest)\n",
    "display('Querry Headline', db['Headline'][20225])\n",
    "display('Top Recommendation(s) is(are)', result)"
   ]
  },
  {
   "cell_type": "code",
   "execution_count": null,
   "metadata": {},
   "outputs": [],
   "source": []
  }
 ],
 "metadata": {
  "kernelspec": {
   "name": "python387jvsc74a57bd045afea9d2ed0988aed1c73453533b909065964733693ec61eee7c05099e56ee3",
   "display_name": "Python 3.8.7 64-bit"
  },
  "language_info": {
   "codemirror_mode": {
    "name": "ipython",
    "version": 3
   },
   "file_extension": ".py",
   "mimetype": "text/x-python",
   "name": "python",
   "nbconvert_exporter": "python",
   "pygments_lexer": "ipython3",
   "version": "3.8.7"
  },
  "metadata": {
   "interpreter": {
    "hash": "45afea9d2ed0988aed1c73453533b909065964733693ec61eee7c05099e56ee3"
   }
  }
 },
 "nbformat": 4,
 "nbformat_minor": 4
}